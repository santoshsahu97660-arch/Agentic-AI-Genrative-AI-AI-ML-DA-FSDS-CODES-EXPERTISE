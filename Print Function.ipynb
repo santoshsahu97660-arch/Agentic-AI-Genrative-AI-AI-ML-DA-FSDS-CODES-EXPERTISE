{
 "cells": [
  {
   "cell_type": "markdown",
   "id": "4e8484c6-c89b-4634-81dd-a75f687b5771",
   "metadata": {},
   "source": [
    "# Print Function ()"
   ]
  },
  {
   "cell_type": "code",
   "execution_count": 4,
   "id": "53442859-dbdd-4bad-9416-671a60337c3c",
   "metadata": {},
   "outputs": [
    {
     "name": "stdout",
     "output_type": "stream",
     "text": [
      "40\n",
      "50\n"
     ]
    }
   ],
   "source": [
    "a=40\n",
    "b=50\n",
    "print(a)\n",
    "print(b)"
   ]
  },
  {
   "cell_type": "code",
   "execution_count": 5,
   "id": "54fa7b62-7fdc-41e3-8a6d-757463dace14",
   "metadata": {},
   "outputs": [
    {
     "name": "stdout",
     "output_type": "stream",
     "text": [
      "40\n",
      "50\n"
     ]
    }
   ],
   "source": [
    "print(a)\n",
    "print(b)"
   ]
  },
  {
   "cell_type": "code",
   "execution_count": 6,
   "id": "305b12ad-d5d2-43dc-885a-e6ab6396b94e",
   "metadata": {},
   "outputs": [
    {
     "name": "stdout",
     "output_type": "stream",
     "text": [
      "40\n",
      "40 50\n",
      "python\n",
      "40 50 python (1+2j) True 2.3 [1, 2]\n"
     ]
    }
   ],
   "source": [
    "#Demonstrating Multiple print() Statements\n",
    "print(40)\n",
    "print(40,50)\n",
    "print('python')\n",
    "print(40,50,'python',1+2j,True,2.3,[1,2])"
   ]
  },
  {
   "cell_type": "code",
   "execution_count": 7,
   "id": "7dcc6652-26b0-4f9c-9665-d24af6a02806",
   "metadata": {},
   "outputs": [
    {
     "name": "stdout",
     "output_type": "stream",
     "text": [
      "90\n"
     ]
    }
   ],
   "source": [
    "num1=40\n",
    "num2=50\n",
    "add=num1+num2\n",
    "print(add)"
   ]
  },
  {
   "cell_type": "code",
   "execution_count": 8,
   "id": "ab167c0c-560a-4782-a8b7-3b25cf575fdd",
   "metadata": {},
   "outputs": [
    {
     "name": "stdout",
     "output_type": "stream",
     "text": [
      "the addition of 40 and 50 is= 90\n"
     ]
    }
   ],
   "source": [
    "# Add two numbers\n",
    "num1=40\n",
    "num2=50\n",
    "add=num1+num2\n",
    "print('the addition of' , num1, 'and' , num2, 'is=' ,add)"
   ]
  },
  {
   "cell_type": "code",
   "execution_count": 9,
   "id": "2149fc23-c5d6-40dc-b313-7da806a731d2",
   "metadata": {},
   "outputs": [
    {
     "name": "stdout",
     "output_type": "stream",
     "text": [
      "the addition of 40 and 50  is=90\n"
     ]
    }
   ],
   "source": [
    "# PRINT FORMATE METHOD\n",
    "# it users.Format()\n",
    "num1=40\n",
    "num2=50\n",
    "add=num1+num2\n",
    "print('the addition of {} and {}  is={}'.format(num1,num2,add))"
   ]
  },
  {
   "cell_type": "code",
   "execution_count": 10,
   "id": "960a9323-764b-4447-bc4b-49d3829b2ace",
   "metadata": {},
   "outputs": [
    {
     "name": "stdout",
     "output_type": "stream",
     "text": [
      "the addition ofn(num1) and (num(2) is=90\n"
     ]
    }
   ],
   "source": [
    "#Add Two Numbers Using f-string\n",
    "num1=40\n",
    "num2=50\n",
    "add=num1+num2\n",
    "print(f'the addition ofn(num1) and (num(2) is={add}')"
   ]
  },
  {
   "cell_type": "code",
   "execution_count": 11,
   "id": "cbd41900-4542-4f65-b66e-a958f1af6452",
   "metadata": {},
   "outputs": [
    {
     "name": "stdout",
     "output_type": "stream",
     "text": [
      "hellogood morning\n"
     ]
    }
   ],
   "source": [
    "# Print end Function\n",
    "print('hello',end='')\n",
    "print('good morning')"
   ]
  },
  {
   "cell_type": "code",
   "execution_count": 13,
   "id": "f7951be0-ccb9-41f8-8008-a06f72a04517",
   "metadata": {},
   "outputs": [
    {
     "name": "stdout",
     "output_type": "stream",
     "text": [
      "hello how are yougood morning\n"
     ]
    }
   ],
   "source": [
    "print('hello','how are you',end='')\n",
    "print('good morning')"
   ]
  },
  {
   "cell_type": "code",
   "execution_count": 14,
   "id": "c92eea6c-96a2-4ada-b073-e1c1d33a390f",
   "metadata": {},
   "outputs": [
    {
     "name": "stdout",
     "output_type": "stream",
     "text": [
      "hello---hai\n"
     ]
    }
   ],
   "source": [
    "# seperate Print Function\n",
    "print('hello','hai',sep='---')"
   ]
  },
  {
   "cell_type": "code",
   "execution_count": null,
   "id": "bfe0e2b6-1c56-4175-9d5a-af644d1984fa",
   "metadata": {},
   "outputs": [],
   "source": []
  },
  {
   "cell_type": "code",
   "execution_count": null,
   "id": "d6d45a7f-3f75-4490-b868-aafdcde814c9",
   "metadata": {},
   "outputs": [],
   "source": []
  },
  {
   "cell_type": "code",
   "execution_count": null,
   "id": "fd299acc-3dac-4860-a935-28bfd7e5b4a0",
   "metadata": {},
   "outputs": [],
   "source": []
  },
  {
   "cell_type": "code",
   "execution_count": null,
   "id": "eb0a20c3-bb8c-4ca6-abd3-fdc353f04e46",
   "metadata": {},
   "outputs": [],
   "source": []
  },
  {
   "cell_type": "code",
   "execution_count": null,
   "id": "9db11ac8-8232-4eea-bb92-49cc58770179",
   "metadata": {},
   "outputs": [],
   "source": []
  }
 ],
 "metadata": {
  "kernelspec": {
   "display_name": "Python 3 (ipykernel)",
   "language": "python",
   "name": "python3"
  },
  "language_info": {
   "codemirror_mode": {
    "name": "ipython",
    "version": 3
   },
   "file_extension": ".py",
   "mimetype": "text/x-python",
   "name": "python",
   "nbconvert_exporter": "python",
   "pygments_lexer": "ipython3",
   "version": "3.13.5"
  }
 },
 "nbformat": 4,
 "nbformat_minor": 5
}
